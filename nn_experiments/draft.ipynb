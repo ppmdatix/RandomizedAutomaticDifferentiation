{
 "cells": [
  {
   "cell_type": "code",
   "execution_count": 2,
   "id": "configured-mozambique",
   "metadata": {},
   "outputs": [],
   "source": [
    "import matplotlib.pyplot as plt\n",
    "import torch\n",
    "# plt.imshow(a)"
   ]
  },
  {
   "cell_type": "code",
   "execution_count": 5,
   "id": "expired-grounds",
   "metadata": {},
   "outputs": [],
   "source": [
    "t = torch.rand((2,2))"
   ]
  },
  {
   "cell_type": "code",
   "execution_count": 8,
   "id": "offensive-respondent",
   "metadata": {},
   "outputs": [
    {
     "data": {
      "text/plain": [
       "tensor([[0.4016, 0.4284],\n",
       "        [0.2291, 0.9790]])"
      ]
     },
     "execution_count": 8,
     "metadata": {},
     "output_type": "execute_result"
    }
   ],
   "source": [
    "t"
   ]
  },
  {
   "cell_type": "code",
   "execution_count": 9,
   "id": "adaptive-treat",
   "metadata": {},
   "outputs": [
    {
     "data": {
      "text/plain": [
       "<matplotlib.image.AxesImage at 0x2a918a83a88>"
      ]
     },
     "execution_count": 9,
     "metadata": {},
     "output_type": "execute_result"
    },
    {
     "data": {
      "image/png": "[encoded data removed]",
      "text/plain": [
       "<Figure size 432x288 with 1 Axes>"
      ]
     },
     "metadata": {
      "needs_background": "light"
     },
     "output_type": "display_data"
    }
   ],
   "source": [
    "plt.imshow(t,cmap='gray',)"
   ]
  },
  {
   "cell_type": "code",
   "execution_count": null,
   "id": "challenging-harvest",
   "metadata": {},
   "outputs": [],
   "source": []
  },
  {
   "cell_type": "code",
   "execution_count": 5,
   "id": "geographic-gambling",
   "metadata": {},
   "outputs": [
    {
     "name": "stdout",
     "output_type": "stream",
     "text": [
      "['.ipynb_checkpoints', 'cifarffcommands.txt', 'cifar_launch.py', 'COMPheuristic-per_column', 'COMPheuristic-per_column-greedy', 'COMPheuristic-per_column-Thompson-0.7', 'COMPheuristic-per_column-Thompson0.5', 'COMPheuristic-per_column-UCB-0.7', 'COMPheuristic-per_column.pdf', 'COMPheuristic2-3-layers-per_column-stuck0.5', 'COMPheuristic2-3-layers-per_column-Thompson0.5', 'data', 'data.py', 'data_dir', 'draft.ipynb', 'exp_dir', 'fc-mnist.ps1', 'launch.ps1', 'layers.py', 'mnistexperiments', 'mnistexperiments010', 'mnistexperiments2', 'mnistexperiments5', 'mnistexperimentsOneLayerSuperSup', 'mnistexperimentsOneLayerSuperSup.pdf', 'mnistffcommands.ps1', 'mnist_all_curves_full.pdf', 'mnist_all_curves_full101.pdf', 'mnist_all_curves_full5.pdf', 'mnist_launch.py', 'models.py', 'plot_cifar.py', 'plot_mnist.py', 'random-per_column', 'random-per_column.pdf', 'README_ff.md', 'README_rnn.md', 'rnn-baseline.ps1', 'rnn-supersub.ps1', 'rnn_mnist_launch.py', 'rnn_models.py', 'rnn_plottingscripts.py', 'rnn_plottingscripts_appendix.py', 'rnn_train_and_eval.py', 'stuck-heur-rand--2-3-layers-per_column-Thompson0.5', 'stuck-heur-rand--2-3-layers-per_column-Thompson0.6', 'TESTmnistffcommands.ps1', 'train_and_eval.py', 'utils.py', '__pycache__']\n",
      ".ipynb_checkpoints\n",
      "COMPheuristic-per_column\n",
      "COMPheuristic-per_column-greedy\n",
      "COMPheuristic-per_column-Thompson-0.7\n",
      "COMPheuristic-per_column-Thompson0.5\n",
      "COMPheuristic-per_column-UCB-0.7\n",
      "COMPheuristic2-3-layers-per_column-stuck0.5\n",
      "COMPheuristic2-3-layers-per_column-Thompson0.5\n",
      "data\n",
      "data_dir\n",
      "exp_dir\n",
      "mnistexperiments\n",
      "mnistexperiments010\n",
      "mnistexperiments2\n",
      "mnistexperiments5\n",
      "mnistexperimentsOneLayerSuperSup\n",
      "random-per_column\n",
      "stuck-heur-rand--2-3-layers-per_column-Thompson0.5\n",
      "stuck-heur-rand--2-3-layers-per_column-Thompson0.6\n",
      "__pycache__\n"
     ]
    }
   ],
   "source": [
    "directory_contents = os.listdir()\n",
    "\n",
    "print(directory_contents)\n",
    "for item in directory_contents:\n",
    "    if os.path.isdir(item):\n",
    "        print(item)"
   ]
  },
  {
   "cell_type": "code",
   "execution_count": 15,
   "id": "adopted-practice",
   "metadata": {},
   "outputs": [],
   "source": [
    "folders = set([folder[:-4] for folder in os.listdir() if os.path.isdir(folder)])"
   ]
  },
  {
   "cell_type": "code",
   "execution_count": 14,
   "id": "plastic-folder",
   "metadata": {},
   "outputs": [
    {
     "data": {
      "text/plain": [
       "{'',\n",
       " '.ipynb_checkpo',\n",
       " 'COMPheuristic-per_co',\n",
       " 'COMPheuristic-per_column-Thompso',\n",
       " 'COMPheuristic-per_column-Thompson',\n",
       " 'COMPheuristic-per_column-UCB',\n",
       " 'COMPheuristic-per_column-gr',\n",
       " 'COMPheuristic2-3-layers-per_column-Thompso',\n",
       " 'COMPheuristic2-3-layers-per_column-stuc',\n",
       " '__pycac',\n",
       " 'data',\n",
       " 'exp',\n",
       " 'mnistexperim',\n",
       " 'mnistexperime',\n",
       " 'mnistexperiment',\n",
       " 'mnistexperimentsOneLayerSupe',\n",
       " 'random-per_co',\n",
       " 'stuck-heur-rand--2-3-layers-per_column-Thompso'}"
      ]
     },
     "execution_count": 14,
     "metadata": {},
     "output_type": "execute_result"
    }
   ],
   "source": [
    "set(folders)"
   ]
  },
  {
   "cell_type": "code",
   "execution_count": 7,
   "id": "stylish-highland",
   "metadata": {},
   "outputs": [],
   "source": [
    "import torch\n",
    "from torch import nn\n",
    "\n",
    "torch.manual_seed(3)\n",
    "linear = nn.Linear(5, 2)\n",
    "linearbis = nn.Linear(2, 5)\n",
    "\n",
    "torch.manual_seed(3)\n",
    "linear2 = nn.Linear(5, 2)\n",
    "linearbis2 = nn.Linear(2, 5)"
   ]
  },
  {
   "cell_type": "code",
   "execution_count": 8,
   "id": "surprising-thanksgiving",
   "metadata": {},
   "outputs": [
    {
     "data": {
      "text/plain": [
       "Parameter containing:\n",
       "tensor([[-0.4434, -0.3528, -0.1915, -0.4231, -0.0254],\n",
       "        [-0.3934,  0.2432,  0.2180,  0.0845,  0.3469]], requires_grad=True)"
      ]
     },
     "execution_count": 8,
     "metadata": {},
     "output_type": "execute_result"
    }
   ],
   "source": [
    "linear.weight"
   ]
  },
  {
   "cell_type": "code",
   "execution_count": 9,
   "id": "historic-titanium",
   "metadata": {},
   "outputs": [
    {
     "data": {
      "text/plain": [
       "Parameter containing:\n",
       "tensor([[-0.4434, -0.3528, -0.1915, -0.4231, -0.0254],\n",
       "        [-0.3934,  0.2432,  0.2180,  0.0845,  0.3469]], requires_grad=True)"
      ]
     },
     "execution_count": 9,
     "metadata": {},
     "output_type": "execute_result"
    }
   ],
   "source": [
    "linear2.weight"
   ]
  },
  {
   "cell_type": "code",
   "execution_count": 11,
   "id": "palestinian-corpus",
   "metadata": {},
   "outputs": [
    {
     "data": {
      "text/plain": [
       "Parameter containing:\n",
       "tensor([[-0.4952, -0.1393],\n",
       "        [-0.6305, -0.0574],\n",
       "        [-0.4588,  0.6352],\n",
       "        [ 0.4912,  0.5301],\n",
       "        [ 0.2097, -0.4034]], requires_grad=True)"
      ]
     },
     "execution_count": 11,
     "metadata": {},
     "output_type": "execute_result"
    }
   ],
   "source": [
    "linearbis.weight "
   ]
  },
  {
   "cell_type": "code",
   "execution_count": 13,
   "id": "square-details",
   "metadata": {},
   "outputs": [
    {
     "data": {
      "text/plain": [
       "Parameter containing:\n",
       "tensor([[-0.4952, -0.1393],\n",
       "        [-0.6305, -0.0574],\n",
       "        [-0.4588,  0.6352],\n",
       "        [ 0.4912,  0.5301],\n",
       "        [ 0.2097, -0.4034]], requires_grad=True)"
      ]
     },
     "execution_count": 13,
     "metadata": {},
     "output_type": "execute_result"
    }
   ],
   "source": [
    "linearbis2.weight\n"
   ]
  },
  {
   "cell_type": "code",
   "execution_count": null,
   "id": "moving-processor",
   "metadata": {},
   "outputs": [],
   "source": []
  }
 ],
 "metadata": {
  "kernelspec": {
   "display_name": "Python 3",
   "language": "python",
   "name": "python3"
  },
  "language_info": {
   "codemirror_mode": {
    "name": "ipython",
    "version": 3
   },
   "file_extension": ".py",
   "mimetype": "text/x-python",
   "name": "python",
   "nbconvert_exporter": "python",
   "pygments_lexer": "ipython3",
   "version": "3.7.11"
  }
 },
 "nbformat": 4,
 "nbformat_minor": 5
}
