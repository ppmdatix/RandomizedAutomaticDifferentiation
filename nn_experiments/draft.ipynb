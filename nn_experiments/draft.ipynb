{
 "cells": [
  {
   "cell_type": "code",
   "execution_count": 1,
   "id": "configured-mozambique",
   "metadata": {},
   "outputs": [],
   "source": [
    "import torch"
   ]
  },
  {
   "cell_type": "code",
   "execution_count": 7,
   "id": "stylish-highland",
   "metadata": {},
   "outputs": [],
   "source": [
    "import torch\n",
    "from torch import nn\n",
    "\n",
    "torch.manual_seed(3)\n",
    "linear = nn.Linear(5, 2)\n",
    "linearbis = nn.Linear(2, 5)\n",
    "\n",
    "torch.manual_seed(3)\n",
    "linear2 = nn.Linear(5, 2)\n",
    "linearbis2 = nn.Linear(2, 5)"
   ]
  },
  {
   "cell_type": "code",
   "execution_count": 8,
   "id": "surprising-thanksgiving",
   "metadata": {},
   "outputs": [
    {
     "data": {
      "text/plain": [
       "Parameter containing:\n",
       "tensor([[-0.4434, -0.3528, -0.1915, -0.4231, -0.0254],\n",
       "        [-0.3934,  0.2432,  0.2180,  0.0845,  0.3469]], requires_grad=True)"
      ]
     },
     "execution_count": 8,
     "metadata": {},
     "output_type": "execute_result"
    }
   ],
   "source": [
    "linear.weight"
   ]
  },
  {
   "cell_type": "code",
   "execution_count": 9,
   "id": "historic-titanium",
   "metadata": {},
   "outputs": [
    {
     "data": {
      "text/plain": [
       "Parameter containing:\n",
       "tensor([[-0.4434, -0.3528, -0.1915, -0.4231, -0.0254],\n",
       "        [-0.3934,  0.2432,  0.2180,  0.0845,  0.3469]], requires_grad=True)"
      ]
     },
     "execution_count": 9,
     "metadata": {},
     "output_type": "execute_result"
    }
   ],
   "source": [
    "linear2.weight"
   ]
  },
  {
   "cell_type": "code",
   "execution_count": 11,
   "id": "palestinian-corpus",
   "metadata": {},
   "outputs": [
    {
     "data": {
      "text/plain": [
       "Parameter containing:\n",
       "tensor([[-0.4952, -0.1393],\n",
       "        [-0.6305, -0.0574],\n",
       "        [-0.4588,  0.6352],\n",
       "        [ 0.4912,  0.5301],\n",
       "        [ 0.2097, -0.4034]], requires_grad=True)"
      ]
     },
     "execution_count": 11,
     "metadata": {},
     "output_type": "execute_result"
    }
   ],
   "source": [
    "linearbis.weight "
   ]
  },
  {
   "cell_type": "code",
   "execution_count": 13,
   "id": "square-details",
   "metadata": {},
   "outputs": [
    {
     "data": {
      "text/plain": [
       "Parameter containing:\n",
       "tensor([[-0.4952, -0.1393],\n",
       "        [-0.6305, -0.0574],\n",
       "        [-0.4588,  0.6352],\n",
       "        [ 0.4912,  0.5301],\n",
       "        [ 0.2097, -0.4034]], requires_grad=True)"
      ]
     },
     "execution_count": 13,
     "metadata": {},
     "output_type": "execute_result"
    }
   ],
   "source": [
    "linearbis2.weight\n"
   ]
  },
  {
   "cell_type": "code",
   "execution_count": null,
   "id": "moving-processor",
   "metadata": {},
   "outputs": [],
   "source": []
  }
 ],
 "metadata": {
  "kernelspec": {
   "display_name": "Python 3",
   "language": "python",
   "name": "python3"
  },
  "language_info": {
   "codemirror_mode": {
    "name": "ipython",
    "version": 3
   },
   "file_extension": ".py",
   "mimetype": "text/x-python",
   "name": "python",
   "nbconvert_exporter": "python",
   "pygments_lexer": "ipython3",
   "version": "3.7.11"
  }
 },
 "nbformat": 4,
 "nbformat_minor": 5
}
